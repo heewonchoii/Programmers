{
 "cells": [
  {
   "cell_type": "markdown",
   "id": "0f91be01",
   "metadata": {},
   "source": [
    "# 행렬의 덧셈"
   ]
  },
  {
   "cell_type": "markdown",
   "id": "c297df33",
   "metadata": {},
   "source": [
    "https://programmers.co.kr/learn/courses/30/lessons/12950\n",
    "\n",
    "**문제 설명**  \n",
    "행렬의 덧셈은 행과 열의 크기가 같은 두 행렬의 같은 행, 같은 열의 값을 서로 더한 결과가 됩니다.  \n",
    "2개의 행렬 arr1과 arr2를 입력받아, 행렬 덧셈의 결과를 반환하는 함수, solution을 완성해주세요.\n",
    "\n",
    "**제한 조건**  \n",
    "행렬 arr1, arr2의 행과 열의 길이는 500을 넘지 않습니다.\n",
    "\n",
    "**입출력 예**  \n",
    "arr1\tarr2\treturn  \n",
    "[[1,2],[2,3]]\t[[3,4],[5,6]]\t[[4,6],[7,9]]  \n",
    "[[1],[2]]\t[[3],[4]]\t[[4],[6]]"
   ]
  },
  {
   "cell_type": "markdown",
   "id": "d7c58619",
   "metadata": {},
   "source": [
    "### 나의 풀이"
   ]
  },
  {
   "cell_type": "code",
   "execution_count": 4,
   "id": "13dc1ea7",
   "metadata": {},
   "outputs": [],
   "source": [
    "def solution(arr1, arr2):\n",
    "    answer=[]\n",
    "    for i in range(len(arr1)):\n",
    "        temp=[]\n",
    "        for j in zip(arr1[i],arr2[i]):\n",
    "            temp.append(sum(j))\n",
    "        answer.append(temp)\n",
    "    return answer"
   ]
  },
  {
   "cell_type": "markdown",
   "id": "393bedfa",
   "metadata": {},
   "source": [
    "### 다른 풀이"
   ]
  },
  {
   "cell_type": "code",
   "execution_count": null,
   "id": "5b6fd82f",
   "metadata": {},
   "outputs": [],
   "source": [
    "def sumMatrix(A,B):\n",
    "    answer = [[c + d for c, d in zip(a, b)] for a, b in zip(A,B)]\n",
    "    return answer"
   ]
  },
  {
   "cell_type": "code",
   "execution_count": null,
   "id": "d80c7054",
   "metadata": {},
   "outputs": [],
   "source": [
    "import numpy as np\n",
    "def sumMatrix(A,B):\n",
    "    A=np.array(A)\n",
    "    B=np.array(B)\n",
    "    answer=A+B\n",
    "    return answer.tolist()"
   ]
  },
  {
   "cell_type": "code",
   "execution_count": null,
   "id": "7e3195f8",
   "metadata": {},
   "outputs": [],
   "source": [
    "def sumMatrix(A,B):\n",
    "    return [list(map(sum, zip(*x))) for x in zip(A, B)]"
   ]
  }
 ],
 "metadata": {
  "kernelspec": {
   "display_name": "Python 3",
   "language": "python",
   "name": "python3"
  },
  "language_info": {
   "codemirror_mode": {
    "name": "ipython",
    "version": 3
   },
   "file_extension": ".py",
   "mimetype": "text/x-python",
   "name": "python",
   "nbconvert_exporter": "python",
   "pygments_lexer": "ipython3",
   "version": "3.8.8"
  }
 },
 "nbformat": 4,
 "nbformat_minor": 5
}
