{
 "cells": [
  {
   "cell_type": "markdown",
   "metadata": {},
   "source": [
    "# 모의고사"
   ]
  },
  {
   "cell_type": "markdown",
   "metadata": {},
   "source": [
    "https://programmers.co.kr/learn/courses/30/lessons/42840\n",
    "\n",
    "**문제 설명**  \n",
    "수포자는 수학을 포기한 사람의 준말입니다.  \n",
    "수포자 삼인방은 모의고사에 수학 문제를 전부 찍으려 합니다.  \n",
    "수포자는 1번 문제부터 마지막 문제까지 다음과 같이 찍습니다.  \n",
    "\n",
    "1번 수포자가 찍는 방식: 1, 2, 3, 4, 5, 1, 2, 3, 4, 5, ...  \n",
    "2번 수포자가 찍는 방식: 2, 1, 2, 3, 2, 4, 2, 5, 2, 1, 2, 3, 2, 4, 2, 5, ...  \n",
    "3번 수포자가 찍는 방식: 3, 3, 1, 1, 2, 2, 4, 4, 5, 5, 3, 3, 1, 1, 2, 2, 4, 4, 5, 5, ...  \n",
    "\n",
    "1번 문제부터 마지막 문제까지의 정답이 순서대로 들은 배열 answers가 주어졌을 때,  \n",
    "가장 많은 문제를 맞힌 사람이 누구인지 배열에 담아 return 하도록 solution 함수를 작성해주세요.  \n",
    "\n",
    "**제한 조건**  \n",
    "시험은 최대 10,000 문제로 구성되어있습니다.  \n",
    "문제의 정답은 1, 2, 3, 4, 5중 하나입니다.  \n",
    "가장 높은 점수를 받은 사람이 여럿일 경우, return하는 값을 오름차순 정렬해주세요. \n",
    "\n",
    "**입출력 예**  \n",
    "answers\treturn  \n",
    "[1,2,3,4,5]\t[1]  \n",
    "[1,3,2,4,2]\t[1,2,3]  \n",
    "\n",
    "**입출력 예 #1**  \n",
    "수포자 1은 모든 문제를 맞혔습니다.  \n",
    "수포자 2는 모든 문제를 틀렸습니다.  \n",
    "수포자 3은 모든 문제를 틀렸습니다.  \n",
    "따라서 가장 문제를 많이 맞힌 사람은 수포자 1입니다.  \n",
    "\n",
    "**입출력 예 #2**  \n",
    "모든 사람이 2문제씩을 맞췄습니다."
   ]
  },
  {
   "cell_type": "markdown",
   "metadata": {},
   "source": [
    "### 나의 풀이"
   ]
  },
  {
   "cell_type": "code",
   "execution_count": 79,
   "metadata": {},
   "outputs": [],
   "source": [
    "def solution(answers):\n",
    "    \n",
    "    stu1=[1,2,3,4,5]*(len(answers)//5+1)\n",
    "    stu2=[2,1,2,3,2,4,2,5]*(len(answers)//8+1)\n",
    "    stu3=[3,3,1,1,2,2,4,4,5,5]*(len(answers)//10+1)\n",
    "    \n",
    "    res1=sum([1 if stu1[idx]==answers[idx] else 0 for idx, a in enumerate(answers)])\n",
    "    res2=sum([1 if stu2[idx]==answers[idx] else 0 for idx, a in enumerate(answers)])\n",
    "    res3=sum([1 if stu3[idx]==answers[idx] else 0 for idx, a in enumerate(answers)])\n",
    "\n",
    "    res=[res1,res2,res3]\n",
    "\n",
    "    answer=[]\n",
    "    for i in range(3):\n",
    "        if res[i]==max(res):\n",
    "            answer.append(i+1)\n",
    "            \n",
    "    return answer"
   ]
  },
  {
   "cell_type": "markdown",
   "metadata": {},
   "source": [
    "### 다른 풀이"
   ]
  },
  {
   "cell_type": "code",
   "execution_count": 78,
   "metadata": {},
   "outputs": [],
   "source": [
    "def solution(answers):\n",
    "    num=len(answers)\n",
    "    supo1=[1,2,3,4,5]*(num//5+1)\n",
    "    supo2=[2,1,2,3,2,4,2,5]*(num//8+1)\n",
    "    supo3=[3,3,1,1,2,2,4,4,5,5]*(num//10+1)\n",
    "    \n",
    "    scores=[]\n",
    "    for stu in [stu1,stu2,stu3]:\n",
    "        scores.append(sum(map(lambda x,y:x==y, answers,stu)))\n",
    "    \n",
    "    maxi=max(scores)\n",
    "    answer=[]\n",
    "    for i in range(3):\n",
    "        if scores[i]==maxi:answer.append(i+1)\n",
    "    \n",
    "    return answer"
   ]
  }
 ],
 "metadata": {
  "kernelspec": {
   "display_name": "Python 3",
   "language": "python",
   "name": "python3"
  },
  "language_info": {
   "codemirror_mode": {
    "name": "ipython",
    "version": 3
   },
   "file_extension": ".py",
   "mimetype": "text/x-python",
   "name": "python",
   "nbconvert_exporter": "python",
   "pygments_lexer": "ipython3",
   "version": "3.8.5"
  }
 },
 "nbformat": 4,
 "nbformat_minor": 4
}
