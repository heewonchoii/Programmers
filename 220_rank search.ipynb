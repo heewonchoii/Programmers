{
 "cells": [
  {
   "cell_type": "markdown",
   "metadata": {},
   "source": [
    "# 순위 검색"
   ]
  },
  {
   "cell_type": "markdown",
   "metadata": {},
   "source": [
    "https://programmers.co.kr/learn/courses/30/lessons/72412\n",
    "\n"
   ]
  },
  {
   "cell_type": "markdown",
   "metadata": {},
   "source": [
    "### 나의 풀이"
   ]
  },
  {
   "cell_type": "code",
   "execution_count": 8,
   "metadata": {},
   "outputs": [],
   "source": [
    "info=[\"java backend junior pizza 150\",\"python frontend senior chicken 210\",\"python frontend senior chicken 150\",\"cpp backend senior pizza 260\",\"java backend junior chicken 80\",\"python backend senior chicken 50\"]\n",
    "query=[\"java and backend and junior and pizza 100\",\"python and frontend and senior and chicken 200\",\"cpp and - and senior and pizza 250\",\"- and backend and senior and - 150\",\"- and - and - and chicken 100\",\"- and - and - and - 150\"]"
   ]
  },
  {
   "cell_type": "code",
   "execution_count": 9,
   "metadata": {},
   "outputs": [
    {
     "data": {
      "text/plain": [
       "[['java', 'backend', 'junior', 'pizza', '150'],\n",
       " ['python', 'frontend', 'senior', 'chicken', '210'],\n",
       " ['python', 'frontend', 'senior', 'chicken', '150'],\n",
       " ['cpp', 'backend', 'senior', 'pizza', '260'],\n",
       " ['java', 'backend', 'junior', 'chicken', '80'],\n",
       " ['python', 'backend', 'senior', 'chicken', '50']]"
      ]
     },
     "execution_count": 9,
     "metadata": {},
     "output_type": "execute_result"
    }
   ],
   "source": [
    "def solution(info, query):\n",
    "    infonew=[i.split() for i in info]\n",
    "    querynew=[i.replace(' and ',' ').split() for i in query]\n",
    "\n",
    "    answer=[]\n",
    "    for a,b,c,d,e in querynew:\n",
    "        cnt=0\n",
    "        for f,g,h,i,j in infonew:\n",
    "            if (a==f or a=='-') and (b==g or b=='-') and (c==h or c=='-') and (d==i or d=='-') and int(e)<=int(j):\n",
    "                cnt+=1\n",
    "        answer.append(cnt)\n",
    "\n",
    "    return answer"
   ]
  },
  {
   "cell_type": "code",
   "execution_count": 15,
   "metadata": {},
   "outputs": [
    {
     "data": {
      "text/plain": [
       "[['java', 'backend', 'junior', 'pizza', '150'],\n",
       " ['python', 'frontend', 'senior', 'chicken', '210'],\n",
       " ['python', 'frontend', 'senior', 'chicken', '150'],\n",
       " ['cpp', 'backend', 'senior', 'pizza', '260'],\n",
       " ['java', 'backend', 'junior', 'chicken', '80'],\n",
       " ['python', 'backend', 'senior', 'chicken', '50']]"
      ]
     },
     "execution_count": 15,
     "metadata": {},
     "output_type": "execute_result"
    }
   ],
   "source": [
    "infonew=[i.split() for i in info]\n",
    "infonew"
   ]
  },
  {
   "cell_type": "code",
   "execution_count": 16,
   "metadata": {},
   "outputs": [
    {
     "data": {
      "text/plain": [
       "[['java', 'backend', 'junior', 'pizza', '100'],\n",
       " ['python', 'frontend', 'senior', 'chicken', '200'],\n",
       " ['cpp', '-', 'senior', 'pizza', '250'],\n",
       " ['-', 'backend', 'senior', '-', '150'],\n",
       " ['-', '-', '-', 'chicken', '100'],\n",
       " ['-', '-', '-', '-', '150']]"
      ]
     },
     "execution_count": 16,
     "metadata": {},
     "output_type": "execute_result"
    }
   ],
   "source": [
    "querynew=[i.replace(' and ',' ').split() for i in query]\n",
    "querynew"
   ]
  },
  {
   "cell_type": "code",
   "execution_count": 26,
   "metadata": {},
   "outputs": [],
   "source": [
    "info_ls=[]\n",
    "for a,b,c,d,e in infonew:\n",
    "    infodict=dict()\n",
    "    infodict['lan']=a\n",
    "    infodict['duty']=b\n",
    "    infodict['career']=c\n",
    "    infodict['food']=d\n",
    "    infodict['score']=int(e)\n",
    "    info_ls.append(infodict)"
   ]
  },
  {
   "cell_type": "code",
   "execution_count": 27,
   "metadata": {},
   "outputs": [
    {
     "data": {
      "text/plain": [
       "[{'lan': 'java',\n",
       "  'duty': 'backend',\n",
       "  'career': 'junior',\n",
       "  'food': 'pizza',\n",
       "  'score': 150},\n",
       " {'lan': 'python',\n",
       "  'duty': 'frontend',\n",
       "  'career': 'senior',\n",
       "  'food': 'chicken',\n",
       "  'score': 210},\n",
       " {'lan': 'python',\n",
       "  'duty': 'frontend',\n",
       "  'career': 'senior',\n",
       "  'food': 'chicken',\n",
       "  'score': 150},\n",
       " {'lan': 'cpp',\n",
       "  'duty': 'backend',\n",
       "  'career': 'senior',\n",
       "  'food': 'pizza',\n",
       "  'score': 260},\n",
       " {'lan': 'java',\n",
       "  'duty': 'backend',\n",
       "  'career': 'junior',\n",
       "  'food': 'chicken',\n",
       "  'score': 80},\n",
       " {'lan': 'python',\n",
       "  'duty': 'backend',\n",
       "  'career': 'senior',\n",
       "  'food': 'chicken',\n",
       "  'score': 50}]"
      ]
     },
     "execution_count": 27,
     "metadata": {},
     "output_type": "execute_result"
    }
   ],
   "source": [
    "info_ls"
   ]
  },
  {
   "cell_type": "code",
   "execution_count": null,
   "metadata": {},
   "outputs": [],
   "source": []
  },
  {
   "cell_type": "code",
   "execution_count": null,
   "metadata": {},
   "outputs": [],
   "source": []
  },
  {
   "cell_type": "code",
   "execution_count": 24,
   "metadata": {},
   "outputs": [
    {
     "data": {
      "text/plain": [
       "[('java', 'backend', 'junior', 'pizza', 150),\n",
       " ('python', 'frontend', 'senior', 'chicken', 210),\n",
       " ('python', 'frontend', 'senior', 'chicken', 150),\n",
       " ('cpp', 'backend', 'senior', 'pizza', 260),\n",
       " ('java', 'backend', 'junior', 'chicken', 80),\n",
       " ('python', 'backend', 'senior', 'chicken', 50)]"
      ]
     },
     "execution_count": 24,
     "metadata": {},
     "output_type": "execute_result"
    }
   ],
   "source": [
    "[(a,b,c,d,int(e)) for a,b,c,d,e in infonew]"
   ]
  },
  {
   "cell_type": "code",
   "execution_count": 8,
   "metadata": {},
   "outputs": [],
   "source": [
    "import pandas as pd"
   ]
  },
  {
   "cell_type": "code",
   "execution_count": 70,
   "metadata": {
    "scrolled": true
   },
   "outputs": [
    {
     "data": {
      "text/html": [
       "<div>\n",
       "<style scoped>\n",
       "    .dataframe tbody tr th:only-of-type {\n",
       "        vertical-align: middle;\n",
       "    }\n",
       "\n",
       "    .dataframe tbody tr th {\n",
       "        vertical-align: top;\n",
       "    }\n",
       "\n",
       "    .dataframe thead th {\n",
       "        text-align: right;\n",
       "    }\n",
       "</style>\n",
       "<table border=\"1\" class=\"dataframe\">\n",
       "  <thead>\n",
       "    <tr style=\"text-align: right;\">\n",
       "      <th></th>\n",
       "      <th>lan</th>\n",
       "      <th>duty</th>\n",
       "      <th>career</th>\n",
       "      <th>food</th>\n",
       "      <th>score</th>\n",
       "    </tr>\n",
       "  </thead>\n",
       "  <tbody>\n",
       "    <tr>\n",
       "      <th>0</th>\n",
       "      <td>java</td>\n",
       "      <td>backend</td>\n",
       "      <td>junior</td>\n",
       "      <td>pizza</td>\n",
       "      <td>150</td>\n",
       "    </tr>\n",
       "    <tr>\n",
       "      <th>1</th>\n",
       "      <td>python</td>\n",
       "      <td>frontend</td>\n",
       "      <td>senior</td>\n",
       "      <td>chicken</td>\n",
       "      <td>210</td>\n",
       "    </tr>\n",
       "    <tr>\n",
       "      <th>2</th>\n",
       "      <td>python</td>\n",
       "      <td>frontend</td>\n",
       "      <td>senior</td>\n",
       "      <td>chicken</td>\n",
       "      <td>150</td>\n",
       "    </tr>\n",
       "    <tr>\n",
       "      <th>3</th>\n",
       "      <td>cpp</td>\n",
       "      <td>backend</td>\n",
       "      <td>senior</td>\n",
       "      <td>pizza</td>\n",
       "      <td>260</td>\n",
       "    </tr>\n",
       "    <tr>\n",
       "      <th>4</th>\n",
       "      <td>java</td>\n",
       "      <td>backend</td>\n",
       "      <td>junior</td>\n",
       "      <td>chicken</td>\n",
       "      <td>80</td>\n",
       "    </tr>\n",
       "    <tr>\n",
       "      <th>5</th>\n",
       "      <td>python</td>\n",
       "      <td>backend</td>\n",
       "      <td>senior</td>\n",
       "      <td>chicken</td>\n",
       "      <td>50</td>\n",
       "    </tr>\n",
       "  </tbody>\n",
       "</table>\n",
       "</div>"
      ],
      "text/plain": [
       "      lan      duty  career     food  score\n",
       "0    java   backend  junior    pizza    150\n",
       "1  python  frontend  senior  chicken    210\n",
       "2  python  frontend  senior  chicken    150\n",
       "3     cpp   backend  senior    pizza    260\n",
       "4    java   backend  junior  chicken     80\n",
       "5  python   backend  senior  chicken     50"
      ]
     },
     "execution_count": 70,
     "metadata": {},
     "output_type": "execute_result"
    }
   ],
   "source": [
    "df_info=pd.DataFrame(ls_info,columns=['lan','duty','career','food','score'])\n",
    "df_info.score=df_info.score.apply(pd.to_numeric)\n",
    "df_info"
   ]
  },
  {
   "cell_type": "code",
   "execution_count": 111,
   "metadata": {
    "scrolled": true
   },
   "outputs": [
    {
     "data": {
      "text/html": [
       "<div>\n",
       "<style scoped>\n",
       "    .dataframe tbody tr th:only-of-type {\n",
       "        vertical-align: middle;\n",
       "    }\n",
       "\n",
       "    .dataframe tbody tr th {\n",
       "        vertical-align: top;\n",
       "    }\n",
       "\n",
       "    .dataframe thead th {\n",
       "        text-align: right;\n",
       "    }\n",
       "</style>\n",
       "<table border=\"1\" class=\"dataframe\">\n",
       "  <thead>\n",
       "    <tr style=\"text-align: right;\">\n",
       "      <th></th>\n",
       "      <th>lan</th>\n",
       "      <th>duty</th>\n",
       "      <th>career</th>\n",
       "      <th>food</th>\n",
       "      <th>score</th>\n",
       "    </tr>\n",
       "  </thead>\n",
       "  <tbody>\n",
       "    <tr>\n",
       "      <th>0</th>\n",
       "      <td>java</td>\n",
       "      <td>backend</td>\n",
       "      <td>junior</td>\n",
       "      <td>pizza</td>\n",
       "      <td>100</td>\n",
       "    </tr>\n",
       "    <tr>\n",
       "      <th>1</th>\n",
       "      <td>python</td>\n",
       "      <td>frontend</td>\n",
       "      <td>senior</td>\n",
       "      <td>chicken</td>\n",
       "      <td>200</td>\n",
       "    </tr>\n",
       "    <tr>\n",
       "      <th>2</th>\n",
       "      <td>cpp</td>\n",
       "      <td>-</td>\n",
       "      <td>senior</td>\n",
       "      <td>pizza</td>\n",
       "      <td>250</td>\n",
       "    </tr>\n",
       "    <tr>\n",
       "      <th>3</th>\n",
       "      <td>-</td>\n",
       "      <td>backend</td>\n",
       "      <td>senior</td>\n",
       "      <td>-</td>\n",
       "      <td>150</td>\n",
       "    </tr>\n",
       "    <tr>\n",
       "      <th>4</th>\n",
       "      <td>-</td>\n",
       "      <td>-</td>\n",
       "      <td>-</td>\n",
       "      <td>chicken</td>\n",
       "      <td>100</td>\n",
       "    </tr>\n",
       "    <tr>\n",
       "      <th>5</th>\n",
       "      <td>-</td>\n",
       "      <td>-</td>\n",
       "      <td>-</td>\n",
       "      <td>-</td>\n",
       "      <td>150</td>\n",
       "    </tr>\n",
       "  </tbody>\n",
       "</table>\n",
       "</div>"
      ],
      "text/plain": [
       "      lan      duty  career     food  score\n",
       "0    java   backend  junior    pizza    100\n",
       "1  python  frontend  senior  chicken    200\n",
       "2     cpp         -  senior    pizza    250\n",
       "3       -   backend  senior        -    150\n",
       "4       -         -       -  chicken    100\n",
       "5       -         -       -        -    150"
      ]
     },
     "execution_count": 111,
     "metadata": {},
     "output_type": "execute_result"
    }
   ],
   "source": [
    "df_query=pd.DataFrame(ls_query,columns=['lan','duty','career','food','score'])\n",
    "df_query.score=df_query.score.apply(pd.to_numeric)\n",
    "df_query"
   ]
  },
  {
   "cell_type": "code",
   "execution_count": 112,
   "metadata": {},
   "outputs": [
    {
     "data": {
      "text/html": [
       "<div>\n",
       "<style scoped>\n",
       "    .dataframe tbody tr th:only-of-type {\n",
       "        vertical-align: middle;\n",
       "    }\n",
       "\n",
       "    .dataframe tbody tr th {\n",
       "        vertical-align: top;\n",
       "    }\n",
       "\n",
       "    .dataframe thead th {\n",
       "        text-align: right;\n",
       "    }\n",
       "</style>\n",
       "<table border=\"1\" class=\"dataframe\">\n",
       "  <thead>\n",
       "    <tr style=\"text-align: right;\">\n",
       "      <th></th>\n",
       "      <th>lan</th>\n",
       "      <th>duty</th>\n",
       "      <th>career</th>\n",
       "      <th>food</th>\n",
       "      <th>score</th>\n",
       "    </tr>\n",
       "  </thead>\n",
       "  <tbody>\n",
       "    <tr>\n",
       "      <th>0</th>\n",
       "      <td>java</td>\n",
       "      <td>backend</td>\n",
       "      <td>junior</td>\n",
       "      <td>pizza</td>\n",
       "      <td>100</td>\n",
       "    </tr>\n",
       "    <tr>\n",
       "      <th>1</th>\n",
       "      <td>python</td>\n",
       "      <td>frontend</td>\n",
       "      <td>senior</td>\n",
       "      <td>chicken</td>\n",
       "      <td>200</td>\n",
       "    </tr>\n",
       "    <tr>\n",
       "      <th>2</th>\n",
       "      <td>cpp</td>\n",
       "      <td>-</td>\n",
       "      <td>senior</td>\n",
       "      <td>pizza</td>\n",
       "      <td>250</td>\n",
       "    </tr>\n",
       "    <tr>\n",
       "      <th>3</th>\n",
       "      <td>-</td>\n",
       "      <td>backend</td>\n",
       "      <td>senior</td>\n",
       "      <td>-</td>\n",
       "      <td>150</td>\n",
       "    </tr>\n",
       "    <tr>\n",
       "      <th>4</th>\n",
       "      <td>-</td>\n",
       "      <td>-</td>\n",
       "      <td>-</td>\n",
       "      <td>chicken</td>\n",
       "      <td>100</td>\n",
       "    </tr>\n",
       "    <tr>\n",
       "      <th>5</th>\n",
       "      <td>-</td>\n",
       "      <td>-</td>\n",
       "      <td>-</td>\n",
       "      <td>-</td>\n",
       "      <td>150</td>\n",
       "    </tr>\n",
       "    <tr>\n",
       "      <th>6</th>\n",
       "      <td>java</td>\n",
       "      <td>backend</td>\n",
       "      <td>senior</td>\n",
       "      <td>pizza</td>\n",
       "      <td>100</td>\n",
       "    </tr>\n",
       "  </tbody>\n",
       "</table>\n",
       "</div>"
      ],
      "text/plain": [
       "      lan      duty  career     food  score\n",
       "0    java   backend  junior    pizza    100\n",
       "1  python  frontend  senior  chicken    200\n",
       "2     cpp         -  senior    pizza    250\n",
       "3       -   backend  senior        -    150\n",
       "4       -         -       -  chicken    100\n",
       "5       -         -       -        -    150\n",
       "6    java   backend  senior    pizza    100"
      ]
     },
     "execution_count": 112,
     "metadata": {},
     "output_type": "execute_result"
    }
   ],
   "source": [
    "df_query=df_query.append({'lan':'java'or'python'or'cpp','duty':'backend','career':'senior','food':('pizza'or'chicken'),'score':100},ignore_index=True)\n",
    "df_query"
   ]
  },
  {
   "cell_type": "code",
   "execution_count": 73,
   "metadata": {},
   "outputs": [
    {
     "name": "stdout",
     "output_type": "stream",
     "text": [
      "    lan     duty  career   food  score\n",
      "0  java  backend  junior  pizza    150\n",
      "----------------------------------------------------------------------------------------------------\n",
      "      lan      duty  career     food  score\n",
      "1  python  frontend  senior  chicken    210\n",
      "----------------------------------------------------------------------------------------------------\n",
      "   lan     duty  career   food  score\n",
      "3  cpp  backend  senior  pizza    260\n",
      "----------------------------------------------------------------------------------------------------\n",
      "   lan     duty  career   food  score\n",
      "3  cpp  backend  senior  pizza    260\n",
      "----------------------------------------------------------------------------------------------------\n",
      "      lan      duty  career     food  score\n",
      "1  python  frontend  senior  chicken    210\n",
      "2  python  frontend  senior  chicken    150\n",
      "----------------------------------------------------------------------------------------------------\n",
      "      lan      duty  career     food  score\n",
      "0    java   backend  junior    pizza    150\n",
      "1  python  frontend  senior  chicken    210\n",
      "2  python  frontend  senior  chicken    150\n",
      "3     cpp   backend  senior    pizza    260\n",
      "----------------------------------------------------------------------------------------------------\n"
     ]
    }
   ],
   "source": [
    "for i in range(len(query)):\n",
    "    print((df_info[\\\n",
    "          ((df_query.lan[i]==df_info.lan) | (df_query.lan[i]=='-'))\\\n",
    "        & ((df_query.duty[i]==df_info.duty) | (df_query.duty[i]=='-'))\\\n",
    "        & ((df_query.career[i]==df_info.career) | (df_query.career[i]=='-'))\\\n",
    "        & ((df_query.food[i]==df_info.food) | (df_query.food[i]=='-'))\\\n",
    "        & ((df_query.score[i]<=df_info.score) | (df_query.score[i]=='-'))\\\n",
    "        ]))\n",
    "    print('-'*100)\n",
    "#     print(df_info[df_info.lan==df_query.lan[i]])"
   ]
  },
  {
   "cell_type": "code",
   "execution_count": 113,
   "metadata": {},
   "outputs": [
    {
     "data": {
      "text/plain": [
       "lan          java\n",
       "duty      backend\n",
       "career     senior\n",
       "food        pizza\n",
       "score         100\n",
       "Name: 6, dtype: object"
      ]
     },
     "execution_count": 113,
     "metadata": {},
     "output_type": "execute_result"
    }
   ],
   "source": [
    "df_query.iloc[6]"
   ]
  },
  {
   "cell_type": "code",
   "execution_count": 114,
   "metadata": {
    "scrolled": true
   },
   "outputs": [
    {
     "data": {
      "text/plain": [
       "lan         python\n",
       "duty      frontend\n",
       "career      senior\n",
       "food       chicken\n",
       "score          210\n",
       "Name: 1, dtype: object"
      ]
     },
     "execution_count": 114,
     "metadata": {},
     "output_type": "execute_result"
    }
   ],
   "source": [
    "df_info.iloc[1]"
   ]
  },
  {
   "cell_type": "code",
   "execution_count": 115,
   "metadata": {},
   "outputs": [
    {
     "data": {
      "text/plain": [
       "lan       False\n",
       "duty      False\n",
       "career     True\n",
       "food      False\n",
       "score     False\n",
       "dtype: bool"
      ]
     },
     "execution_count": 115,
     "metadata": {},
     "output_type": "execute_result"
    }
   ],
   "source": [
    "df_query.iloc[6]==df_info.iloc[1]"
   ]
  },
  {
   "cell_type": "code",
   "execution_count": null,
   "metadata": {},
   "outputs": [],
   "source": []
  }
 ],
 "metadata": {
  "kernelspec": {
   "display_name": "Python 3",
   "language": "python",
   "name": "python3"
  },
  "language_info": {
   "codemirror_mode": {
    "name": "ipython",
    "version": 3
   },
   "file_extension": ".py",
   "mimetype": "text/x-python",
   "name": "python",
   "nbconvert_exporter": "python",
   "pygments_lexer": "ipython3",
   "version": "3.8.5"
  }
 },
 "nbformat": 4,
 "nbformat_minor": 4
}
