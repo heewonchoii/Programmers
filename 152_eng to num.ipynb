{
 "cells": [
  {
   "cell_type": "markdown",
   "metadata": {},
   "source": [
    "# 숫자 문자열과 영단어"
   ]
  },
  {
   "cell_type": "markdown",
   "metadata": {},
   "source": [
    "https://programmers.co.kr/learn/courses/30/lessons/81301\n",
    "\n",
    "**문제 설명**  \n",
    "네오와 프로도가 숫자놀이를 하고 있습니다.  \n",
    "네오가 프로도에게 숫자를 건넬 때 일부 자릿수를 영단어로 바꾼 카드를 건네주면 프로도는 원래 숫자를 찾는 게임입니다.\n",
    "\n",
    "다음은 숫자의 일부 자릿수를 영단어로 바꾸는 예시입니다.\n",
    "\n",
    "1478 → \"one4seveneight\"  \n",
    "234567 → \"23four5six7\"  \n",
    "10203 → \"1zerotwozero3\"  \n",
    "이렇게 숫자의 일부 자릿수가 영단어로 바뀌어졌거나, 혹은 바뀌지 않고 그대로인 문자열 s가 매개변수로 주어집니다.  \n",
    "s가 의미하는 원래 숫자를 return 하도록 solution 함수를 완성해주세요.\n",
    "\n",
    "참고로 각 숫자에 대응되는 영단어는 다음 표와 같습니다.\n",
    "\n",
    "숫자\t영단어  \n",
    "0\tzero  \n",
    "1\tone  \n",
    "2\ttwo  \n",
    "3\tthree  \n",
    "4\tfour  \n",
    "5\tfive  \n",
    "6\tsix  \n",
    "7\tseven  \n",
    "8\teight  \n",
    "9\tnine  \n",
    "\n",
    "**제한사항**  \n",
    "1 ≤ s의 길이 ≤ 50  \n",
    "s가 \"zero\" 또는 \"0\"으로 시작하는 경우는 주어지지 않습니다.  \n",
    "return 값이 1 이상 2,000,000,000 이하의 정수가 되는 올바른 입력만 s로 주어집니다.\n",
    "\n",
    "**입출력 예**  \n",
    "s\tresult  \n",
    "\"one4seveneight\"\t1478  \n",
    "\"23four5six7\"\t234567  \n",
    "\"2three45sixseven\"\t234567  \n",
    "\"123\"\t123\n",
    "\n",
    "**입출력 예 설명**  \n",
    "입출력 예 #1  \n",
    "문제 예시와 같습니다.\n",
    "\n",
    "입출력 예 #2  \n",
    "문제 예시와 같습니다.\n",
    "\n",
    "입출력 예 #3  \n",
    "\"three\"는 3, \"six\"는 6, \"seven\"은 7에 대응되기 때문에 정답은 입출력 예 #2와 같은 234567이 됩니다.  \n",
    "입출력 예 #2와 #3과 같이 같은 정답을 가리키는 문자열이 여러 가지가 나올 수 있습니다.\n",
    "\n",
    "입출력 예 #4  \n",
    "s에는 영단어로 바뀐 부분이 없습니다."
   ]
  },
  {
   "cell_type": "markdown",
   "metadata": {},
   "source": [
    "### 나의 풀이"
   ]
  },
  {
   "cell_type": "code",
   "execution_count": null,
   "metadata": {},
   "outputs": [],
   "source": [
    "def solution(s):\n",
    "    word=list(('zero','one','two','three','four','five','six','seven','eight','nine'))\n",
    "    for i in range(10):\n",
    "        s=s.replace(word[i],str(i))\n",
    "    return int(s)"
   ]
  },
  {
   "cell_type": "markdown",
   "metadata": {},
   "source": [
    "### 다른 풀이"
   ]
  },
  {
   "cell_type": "code",
   "execution_count": null,
   "metadata": {},
   "outputs": [],
   "source": [
    "num_dic = {\"zero\":\"0\", \"one\":\"1\", \"two\":\"2\", \"three\":\"3\", \"four\":\"4\", \"five\":\"5\", \"six\":\"6\", \"seven\":\"7\", \"eight\":\"8\", \"nine\":\"9\"}\n",
    "\n",
    "def solution(s):\n",
    "    answer = s\n",
    "    for key, value in num_dic.items():\n",
    "        answer = answer.replace(key, value)\n",
    "    return int(answer)"
   ]
  }
 ],
 "metadata": {
  "kernelspec": {
   "display_name": "Python 3",
   "language": "python",
   "name": "python3"
  },
  "language_info": {
   "codemirror_mode": {
    "name": "ipython",
    "version": 3
   },
   "file_extension": ".py",
   "mimetype": "text/x-python",
   "name": "python",
   "nbconvert_exporter": "python",
   "pygments_lexer": "ipython3",
   "version": "3.8.5"
  }
 },
 "nbformat": 4,
 "nbformat_minor": 4
}
