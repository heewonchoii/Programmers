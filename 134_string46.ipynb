{
 "cells": [
  {
   "cell_type": "markdown",
   "metadata": {},
   "source": [
    "# 문자열 다루기 기본"
   ]
  },
  {
   "cell_type": "markdown",
   "metadata": {},
   "source": [
    "https://programmers.co.kr/learn/courses/30/lessons/12918\n",
    "\n",
    "**문제 설명**  \n",
    "문자열 s의 길이가 4 혹은 6이고, 숫자로만 구성돼있는지 확인해주는 함수, solution을 완성하세요.  \n",
    "예를 들어 s가 \"a234\"이면 False를 리턴하고 \"1234\"라면 True를 리턴하면 됩니다.\n",
    "\n",
    "**제한 사항**  \n",
    "s는 길이 1 이상, 길이 8 이하인 문자열입니다.\n",
    "\n",
    "**입출력 예**  \n",
    "s\treturn  \n",
    "\"a234\"\tfalse  \n",
    "\"1234\"\ttrue"
   ]
  },
  {
   "cell_type": "markdown",
   "metadata": {},
   "source": [
    "### 나의 풀이"
   ]
  },
  {
   "cell_type": "code",
   "execution_count": null,
   "metadata": {},
   "outputs": [],
   "source": [
    "import re\n",
    "def solution(s):\n",
    "    answer = True\n",
    "    if len(s)!=4 and len(s)!=6:\n",
    "        answer=False\n",
    "    if bool(re.search('\\D',s)):\n",
    "        answer=False\n",
    "    return answer"
   ]
  },
  {
   "cell_type": "markdown",
   "metadata": {},
   "source": [
    "### 다른 풀이"
   ]
  },
  {
   "cell_type": "code",
   "execution_count": null,
   "metadata": {},
   "outputs": [],
   "source": [
    "def alpha_string46(s):\n",
    "    return s.isdigit() and len(s) in (4, 6)"
   ]
  },
  {
   "cell_type": "code",
   "execution_count": null,
   "metadata": {},
   "outputs": [],
   "source": [
    "def alpha_string46(s):\n",
    "    import re\n",
    "    return bool(re.match(\"^(\\d{4}|\\d{6})$\", s))"
   ]
  }
 ],
 "metadata": {
  "kernelspec": {
   "display_name": "Python 3",
   "language": "python",
   "name": "python3"
  },
  "language_info": {
   "codemirror_mode": {
    "name": "ipython",
    "version": 3
   },
   "file_extension": ".py",
   "mimetype": "text/x-python",
   "name": "python",
   "nbconvert_exporter": "python",
   "pygments_lexer": "ipython3",
   "version": "3.8.5"
  }
 },
 "nbformat": 4,
 "nbformat_minor": 4
}
