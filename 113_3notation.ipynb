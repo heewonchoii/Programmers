{
 "cells": [
  {
   "cell_type": "markdown",
   "id": "1cc35520",
   "metadata": {},
   "source": [
    "# 3진법 뒤집기"
   ]
  },
  {
   "cell_type": "markdown",
   "id": "93d1ba73",
   "metadata": {},
   "source": [
    "https://programmers.co.kr/learn/courses/30/lessons/68935\n",
    "\n",
    "**문제 설명**  \n",
    "자연수 n이 매개변수로 주어집니다.  \n",
    "n을 3진법 상에서 앞뒤로 뒤집은 후, 이를 다시 10진법으로 표현한 수를 return 하도록 solution 함수를 완성해주세요.\n",
    "\n",
    "**제한사항**  \n",
    "n은 1 이상 100,000,000 이하인 자연수입니다.\n",
    "\n",
    "**입출력 예**  \n",
    "n\tresult  \n",
    "45\t7  \n",
    "125\t229  \n",
    "\n",
    "**입출력 예 #1**  \n",
    "답을 도출하는 과정은 다음과 같습니다.  \n",
    "n (10진법)\tn (3진법)\t앞뒤 반전(3진법)\t10진법으로 표현  \n",
    "45\t1200\t0021\t7  \n",
    "따라서 7을 return 해야 합니다.\n",
    "\n",
    "**입출력 예 #2**  \n",
    "답을 도출하는 과정은 다음과 같습니다.  \n",
    "n (10진법)\tn (3진법)\t앞뒤 반전(3진법)\t10진법으로 표현  \n",
    "125\t11122\t22111\t229  \n",
    "따라서 229를 return 해야 합니다."
   ]
  },
  {
   "cell_type": "markdown",
   "id": "7bf8701d",
   "metadata": {},
   "source": [
    "### 나의 풀이"
   ]
  },
  {
   "cell_type": "code",
   "execution_count": null,
   "id": "4444aa7f",
   "metadata": {},
   "outputs": [],
   "source": [
    "def solution(n):\n",
    "    nums=[]\n",
    "    while n:\n",
    "        n,r=divmod(n,3)\n",
    "        nums.append(r)\n",
    "    \n",
    "    power=[idx for idx,val in enumerate(nums)][::-1]\n",
    "    \n",
    "    res=[]\n",
    "    for x,y in list(zip(power,nums)):\n",
    "        res.append((3**x)*y)    \n",
    "    \n",
    "    return sum(res)"
   ]
  },
  {
   "cell_type": "code",
   "execution_count": null,
   "id": "130165a6",
   "metadata": {},
   "outputs": [],
   "source": [
    "# list(map(lambda x,y: (3**x)*y, list(zip(power,nums))))\n",
    "# 왜 안 될까..."
   ]
  },
  {
   "cell_type": "markdown",
   "id": "b8d7f12a",
   "metadata": {},
   "source": [
    "### 다른 풀이"
   ]
  },
  {
   "cell_type": "code",
   "execution_count": null,
   "id": "2f1c5355",
   "metadata": {},
   "outputs": [],
   "source": [
    "def solution(n):\n",
    "    tmp = ''\n",
    "    while n:\n",
    "        tmp += str(n % 3)\n",
    "        n = n // 3\n",
    "\n",
    "    answer = int(tmp, 3)\n",
    "    return answer"
   ]
  }
 ],
 "metadata": {
  "kernelspec": {
   "display_name": "Python 3",
   "language": "python",
   "name": "python3"
  },
  "language_info": {
   "codemirror_mode": {
    "name": "ipython",
    "version": 3
   },
   "file_extension": ".py",
   "mimetype": "text/x-python",
   "name": "python",
   "nbconvert_exporter": "python",
   "pygments_lexer": "ipython3",
   "version": "3.8.8"
  }
 },
 "nbformat": 4,
 "nbformat_minor": 5
}
