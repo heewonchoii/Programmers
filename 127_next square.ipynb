{
 "cells": [
  {
   "cell_type": "markdown",
   "metadata": {},
   "source": [
    "# 정수 제곱근 판별"
   ]
  },
  {
   "cell_type": "markdown",
   "metadata": {},
   "source": [
    "https://programmers.co.kr/learn/courses/30/lessons/12934\n",
    "\n",
    "**8문제 설명**  \n",
    "임의의 양의 정수 n에 대해, n이 어떤 양의 정수 x의 제곱인지 아닌지 판단하려 합니다.  \n",
    "n이 양의 정수 x의 제곱이라면 x+1의 제곱을 리턴하고, n이 양의 정수 x의 제곱이 아니라면 -1을 리턴하는 함수를 완성하세요.\n",
    "\n",
    "**제한 사항**  \n",
    "n은 1이상, 50000000000000 이하인 양의 정수입니다.  \n",
    "\n",
    "**입출력 예**  \n",
    "n\treturn  \n",
    "121\t144  \n",
    "3\t-1\n",
    "\n",
    "**입출력 예#1**\n",
    "121은 양의 정수 11의 제곱이므로, (11+1)를 제곱한 144를 리턴합니다.\n",
    "\n",
    "**입출력 예#2**  \n",
    "3은 양의 정수의 제곱이 아니므로, -1을 리턴합니다."
   ]
  },
  {
   "cell_type": "markdown",
   "metadata": {},
   "source": [
    "### 나의 풀이"
   ]
  },
  {
   "cell_type": "code",
   "execution_count": null,
   "metadata": {},
   "outputs": [],
   "source": [
    "def solution(n):\n",
    "    if n**(1/2)==int(n**(1/2)):\n",
    "        answer=(n**(1/2)+1)**2\n",
    "    else:\n",
    "        answer=-1\n",
    "    return answer"
   ]
  },
  {
   "cell_type": "code",
   "execution_count": null,
   "metadata": {},
   "outputs": [],
   "source": [
    "def solution(n):\n",
    "    return (n**(1/2)+1)**2 if n**(1/2)==int(n**(1/2)) else -1"
   ]
  },
  {
   "cell_type": "markdown",
   "metadata": {},
   "source": [
    "### 다른 풀이"
   ]
  },
  {
   "cell_type": "code",
   "execution_count": null,
   "metadata": {},
   "outputs": [],
   "source": [
    "def nextSqure(n):\n",
    "    sqrt = n ** (1/2)\n",
    "\n",
    "    if sqrt % 1 == 0:\n",
    "        return (sqrt + 1) ** 2\n",
    "    return 'no'"
   ]
  },
  {
   "cell_type": "code",
   "execution_count": null,
   "metadata": {},
   "outputs": [],
   "source": [
    "def nextSqure(n):\n",
    "    return n == int(n**.5)**2 and int(n**.5+1)**2 or 'no'"
   ]
  }
 ],
 "metadata": {
  "kernelspec": {
   "display_name": "Python 3",
   "language": "python",
   "name": "python3"
  },
  "language_info": {
   "codemirror_mode": {
    "name": "ipython",
    "version": 3
   },
   "file_extension": ".py",
   "mimetype": "text/x-python",
   "name": "python",
   "nbconvert_exporter": "python",
   "pygments_lexer": "ipython3",
   "version": "3.8.5"
  }
 },
 "nbformat": 4,
 "nbformat_minor": 4
}
