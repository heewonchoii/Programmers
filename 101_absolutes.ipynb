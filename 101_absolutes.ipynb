{
 "cells": [
  {
   "cell_type": "markdown",
   "metadata": {},
   "source": [
    "# 음양 더하기"
   ]
  },
  {
   "cell_type": "markdown",
   "metadata": {},
   "source": [
    "https://programmers.co.kr/learn/courses/30/lessons/76501?language=python3\n",
    "\n",
    "**문제 설명**  \n",
    "어떤 정수들이 있습니다. 이 정수들의 절댓값을 차례대로 담은 정수 배열 absolutes와 이 정수들의 부호를 차례대로 담은 불리언 배열 signs가 매개변수로 주어집니다.  \n",
    "실제 정수들의 합을 구하여 return 하도록 solution 함수를 완성해주세요.\n",
    "\n",
    "**제한사항**  \n",
    "absolutes의 길이는 1 이상 1,000 이하입니다.  \n",
    "absolutes의 모든 수는 각각 1 이상 1,000 이하입니다.  \n",
    "signs의 길이는 absolutes의 길이와 같습니다.  \n",
    "signs[i] 가 참이면 absolutes[i] 의 실제 정수가 양수임을, 그렇지 않으면 음수임을 의미합니다.\n",
    "\n",
    "**입출력 예**  \n",
    "absolutes signs result  \n",
    "[4,7,12] [true,false,true] 9   \n",
    "[1,2,3] [false,false,true] 0\n",
    "\n",
    "**입출력 예 #1**  \n",
    "signs가 [true,false,true] 이므로, 실제 수들의 값은 각각 4, -7, 12입니다.  \n",
    "따라서 세 수의 합인 9를 return 해야 합니다.\n",
    "\n",
    "**입출력 예 #2**  \n",
    "signs가 [false,false,true] 이므로, 실제 수들의 값은 각각 -1, -2, 3입니다.  \n",
    "따라서 세 수의 합인 0을 return 해야 합니다."
   ]
  },
  {
   "cell_type": "markdown",
   "metadata": {},
   "source": [
    "### 나의 풀이"
   ]
  },
  {
   "cell_type": "code",
   "execution_count": 26,
   "metadata": {},
   "outputs": [],
   "source": [
    "def solution(absolutes, signs):\n",
    "    for i in range(len(signs)):\n",
    "        if signs[i]==True:\n",
    "            pass\n",
    "        else:\n",
    "            absolutes[i]=-absolutes[i]\n",
    "    answer = sum(absolutes)\n",
    "    return answer"
   ]
  },
  {
   "cell_type": "markdown",
   "metadata": {},
   "source": [
    "### 다른 풀이"
   ]
  },
  {
   "cell_type": "code",
   "execution_count": null,
   "metadata": {},
   "outputs": [],
   "source": [
    "def solution(absolutes, signs):\n",
    "    return sum(absolutes if sign else -absolutes for absolutes, sign in zip(absolutes, signs))"
   ]
  },
  {
   "cell_type": "code",
   "execution_count": null,
   "metadata": {},
   "outputs": [],
   "source": [
    "def solution(absolutes, signs):\n",
    "    return sum(absolutes[i] * (1 if signs[i] else -1) for i in range(len(signs)))"
   ]
  },
  {
   "cell_type": "code",
   "execution_count": null,
   "metadata": {},
   "outputs": [],
   "source": [
    "def solution(absolutes, signs):\n",
    "    return sum([a if signs[idx] else -a for idx, a in enumerate(absolutes)])"
   ]
  },
  {
   "cell_type": "code",
   "execution_count": null,
   "metadata": {},
   "outputs": [],
   "source": [
    "def solution(absolutes, signs):\n",
    "    answer=0\n",
    "    for absolute,sign in zip(absolutes,signs):\n",
    "        if sign:\n",
    "            answer+=absolute\n",
    "        else:\n",
    "            answer-=absolute\n",
    "    return answer"
   ]
  }
 ],
 "metadata": {
  "kernelspec": {
   "display_name": "Python 3",
   "language": "python",
   "name": "python3"
  },
  "language_info": {
   "codemirror_mode": {
    "name": "ipython",
    "version": 3
   },
   "file_extension": ".py",
   "mimetype": "text/x-python",
   "name": "python",
   "nbconvert_exporter": "python",
   "pygments_lexer": "ipython3",
   "version": "3.8.5"
  }
 },
 "nbformat": 4,
 "nbformat_minor": 4
}
