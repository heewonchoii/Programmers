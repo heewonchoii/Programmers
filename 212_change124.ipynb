{
 "cells": [
  {
   "cell_type": "markdown",
   "metadata": {},
   "source": [
    "# 124 나라의 숫자"
   ]
  },
  {
   "cell_type": "markdown",
   "metadata": {},
   "source": [
    "https://programmers.co.kr/learn/courses/30/lessons/12899\n",
    "\n",
    "**문제 설명**  \n",
    "124 나라가 있습니다. 124 나라에서는 10진법이 아닌 다음과 같은 자신들만의 규칙으로 수를 표현합니다.\n",
    "\n",
    "124 나라에는 자연수만 존재합니다.  \n",
    "124 나라에는 모든 수를 표현할 때 1, 2, 4만 사용합니다.  \n",
    "예를 들어서 124 나라에서 사용하는 숫자는 다음과 같이 변환됩니다.\n",
    "\n",
    "10진법\t124 나라\t10진법\t124 나라  \n",
    "1\t1\t6\t14  \n",
    "2\t2\t7\t21  \n",
    "3\t4\t8\t22  \n",
    "4\t11\t9\t24  \n",
    "5\t12\t10\t41\n",
    "\n",
    "자연수 n이 매개변수로 주어질 때, n을 124 나라에서 사용하는 숫자로 바꾼 값을 return 하도록 solution 함수를 완성해 주세요.\n",
    "\n",
    "**제한사항**  \n",
    "n은 500,000,000이하의 자연수 입니다.\n",
    "\n",
    "**입출력 예**  \n",
    "n\tresult  \n",
    "1\t1  \n",
    "2\t2  \n",
    "3\t4  \n",
    "4\t11"
   ]
  },
  {
   "cell_type": "markdown",
   "metadata": {},
   "source": [
    "### 나의 풀이"
   ]
  },
  {
   "cell_type": "code",
   "execution_count": null,
   "metadata": {},
   "outputs": [],
   "source": [
    "def solution(n):\n",
    "    res=[]\n",
    "    q=n\n",
    "    while q>=3:\n",
    "        q,r=divmod(q,3)\n",
    "        res.append(r)\n",
    "    res.append(q)\n",
    "    \n",
    "    res=res[::-1]\n",
    "    \n",
    "    while 0 in res:\n",
    "        idx_0=res.index(0)\n",
    "        res[idx_0-1]-=1\n",
    "        res[idx_0]=4\n",
    "        if res[0]==0: del res[0]\n",
    "    \n",
    "    while 3 in res:\n",
    "        res[res.index(3)]=2\n",
    "    \n",
    "    return ''.join(map(str,res))"
   ]
  },
  {
   "cell_type": "markdown",
   "metadata": {},
   "source": [
    "### 다른 풀이"
   ]
  },
  {
   "cell_type": "code",
   "execution_count": null,
   "metadata": {},
   "outputs": [],
   "source": [
    "def change124(n):\n",
    "    num = ['1','2','4']\n",
    "    answer = \"\"\n",
    "\n",
    "    while n > 0:\n",
    "        n -= 1\n",
    "        answer = num[n % 3] + answer\n",
    "        n //= 3\n",
    "\n",
    "    return answer"
   ]
  },
  {
   "cell_type": "code",
   "execution_count": null,
   "metadata": {},
   "outputs": [],
   "source": [
    "def change124(n):\n",
    "    if n<=3:\n",
    "        return '124'[n-1]\n",
    "    else:\n",
    "        q, r = divmod(n-1, 3) \n",
    "        return change124(q) + '124'[r]"
   ]
  },
  {
   "cell_type": "code",
   "execution_count": null,
   "metadata": {},
   "outputs": [],
   "source": [
    "def change124(n):\n",
    "    answer = \"0\"\n",
    "\n",
    "    return ['4', '1', '2'][n%3] if n < 4 else change124((n-1) // 3) + ['4', '1', '2'][n%3]"
   ]
  },
  {
   "cell_type": "code",
   "execution_count": null,
   "metadata": {},
   "outputs": [],
   "source": [
    "def change124(n):\n",
    "    return '' if n == 0 else change124((n - 1) // 3) + \"412\"[n % 3]"
   ]
  }
 ],
 "metadata": {
  "kernelspec": {
   "display_name": "Python 3",
   "language": "python",
   "name": "python3"
  },
  "language_info": {
   "codemirror_mode": {
    "name": "ipython",
    "version": 3
   },
   "file_extension": ".py",
   "mimetype": "text/x-python",
   "name": "python",
   "nbconvert_exporter": "python",
   "pygments_lexer": "ipython3",
   "version": "3.8.5"
  }
 },
 "nbformat": 4,
 "nbformat_minor": 4
}
