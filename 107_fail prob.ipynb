{
 "cells": [
  {
   "cell_type": "markdown",
   "id": "f5850efc",
   "metadata": {},
   "source": [
    "# 실패율"
   ]
  },
  {
   "cell_type": "markdown",
   "id": "15703309",
   "metadata": {},
   "source": [
    "https://programmers.co.kr/learn/courses/30/lessons/42889\n",
    "\n",
    "**문제 설명**  \n",
    "슈퍼 게임 개발자 오렐리는 큰 고민에 빠졌다.  \n",
    "그녀가 만든 프랜즈 오천성이 대성공을 거뒀지만, 요즘 신규 사용자의 수가 급감한 것이다.  \n",
    "원인은 신규 사용자와 기존 사용자 사이에 스테이지 차이가 너무 큰 것이 문제였다.\n",
    "\n",
    "이 문제를 어떻게 할까 고민 한 그녀는 동적으로 게임 시간을 늘려서 난이도를 조절하기로 했다.  \n",
    "역시 슈퍼 개발자라 대부분의 로직은 쉽게 구현했지만, 실패율을 구하는 부분에서 위기에 빠지고 말았다.  \n",
    "오렐리를 위해 실패율을 구하는 코드를 완성하라.\n",
    "\n",
    "실패율은 다음과 같이 정의한다.  \n",
    "스테이지에 도달했으나 아직 클리어하지 못한 플레이어의 수 / 스테이지에 도달한 플레이어 수  \n",
    "전체 스테이지의 개수 N, 게임을 이용하는 사용자가 현재 멈춰있는 스테이지의 번호가 담긴 배열 stages가 매개변수로 주어질 때,  \n",
    "실패율이 높은 스테이지부터 내림차순으로 스테이지의 번호가 담겨있는 배열을 return 하도록 solution 함수를 완성하라.\n",
    "\n",
    "**제한사항**  \n",
    "스테이지의 개수 N은 1 이상 500 이하의 자연수이다.  \n",
    "stages의 길이는 1 이상 200,000 이하이다.  \n",
    "stages에는 1 이상 N + 1 이하의 자연수가 담겨있다.  \n",
    "각 자연수는 사용자가 현재 도전 중인 스테이지의 번호를 나타낸다.  \n",
    "단, N + 1 은 마지막 스테이지(N 번째 스테이지) 까지 클리어 한 사용자를 나타낸다.  \n",
    "만약 실패율이 같은 스테이지가 있다면 작은 번호의 스테이지가 먼저 오도록 하면 된다.  \n",
    "스테이지에 도달한 유저가 없는 경우 해당 스테이지의 실패율은 0 으로 정의한다.\n",
    "\n",
    "**입출력 예**  \n",
    "N\tstages\tresult  \n",
    "5\t[2, 1, 2, 6, 2, 4, 3, 3]\t[3,4,2,1,5]  \n",
    "4\t[4,4,4,4,4]\t[4,1,2,3]\n",
    "\n",
    "**입출력 예 #1**  \n",
    "1번 스테이지에는 총 8명의 사용자가 도전했으며, 이 중 1명의 사용자가 아직 클리어하지 못했다.  \n",
    "따라서 1번 스테이지의 실패율은 다음과 같다.\n",
    "\n",
    "1 번 스테이지 실패율 : 1/8  \n",
    "2번 스테이지에는 총 7명의 사용자가 도전했으며, 이 중 3명의 사용자가 아직 클리어하지 못했다.  \n",
    "따라서 2번 스테이지의 실패율은 다음과 같다.\n",
    "\n",
    "2 번 스테이지 실패율 : 3/7  \n",
    "마찬가지로 나머지 스테이지의 실패율은 다음과 같다.\n",
    "\n",
    "3 번 스테이지 실패율 : 2/4  \n",
    "4번 스테이지 실패율 : 1/2  \n",
    "5번 스테이지 실패율 : 0/1  \n",
    "각 스테이지의 번호를 실패율의 내림차순으로 정렬하면 다음과 같다.  \n",
    "[3,4,2,1,5]\n",
    "\n",
    "**입출력 예 #2**  \n",
    "모든 사용자가 마지막 스테이지에 있으므로 4번 스테이지의 실패율은 1이며 나머지 스테이지의 실패율은 0이다.  \n",
    "[4,1,2,3]"
   ]
  },
  {
   "cell_type": "markdown",
   "id": "df2ebab3",
   "metadata": {},
   "source": [
    "### 나의 풀이"
   ]
  },
  {
   "cell_type": "code",
   "execution_count": null,
   "id": "de07d7e9",
   "metadata": {},
   "outputs": [],
   "source": [
    "def solution(N, stages):\n",
    "    stages=sorted(stages)\n",
    "\n",
    "    cnt={}\n",
    "    for i in stages:\n",
    "        try: cnt[i] += 1\n",
    "        except: cnt[i]=1\n",
    "\n",
    "    ppl_dic={}\n",
    "    ppl=len(stages)\n",
    "    for i,j in cnt.items():\n",
    "        ppl_dic[i]=ppl\n",
    "        ppl-=j\n",
    "\n",
    "    prop={}\n",
    "    for i,j in cnt.items():\n",
    "        if i<=N:\n",
    "            prop[i]=cnt[i]/ppl_dic[i]\n",
    "\n",
    "    ans=[y[0] for y in sorted(prop.items(), key=lambda x : x[1],reverse=True)]\n",
    "    ans.extend(sorted(list(set(range(1,N+1))-set(ans))))\n",
    "\n",
    "    return ans"
   ]
  },
  {
   "cell_type": "markdown",
   "id": "d3364369",
   "metadata": {},
   "source": [
    "### 다른 풀이"
   ]
  },
  {
   "cell_type": "code",
   "execution_count": 304,
   "id": "5a0542d1",
   "metadata": {},
   "outputs": [],
   "source": [
    "def solution(N, stages):\n",
    "    answer = []\n",
    "    current = len(stages)\n",
    "    fail = [0] * (N+1)\n",
    "    \n",
    "    for i in range(1, N+1) :\n",
    "        cnt = stages.count(i)\n",
    "        fail[i] = cnt / current\n",
    "        current -= cnt\n",
    "        if current == 0 : break\n",
    "\n",
    "    for idx, _ in sorted(enumerate(fail[1:]), key = lambda x : x[1], reverse = True) :\n",
    "        answer.append(idx+1)\n",
    "    return answer"
   ]
  },
  {
   "cell_type": "code",
   "execution_count": null,
   "id": "93f2c975",
   "metadata": {},
   "outputs": [],
   "source": [
    "def solution(N, stages):\n",
    "    result = {}\n",
    "    denominator = len(stages)\n",
    "    for stage in range(1, N+1):\n",
    "        if denominator != 0:\n",
    "            count = stages.count(stage)\n",
    "            result[stage] = count / denominator\n",
    "            denominator -= count\n",
    "        else:\n",
    "            result[stage] = 0\n",
    "    return sorted(result, key=lambda x : result[x], reverse=True)"
   ]
  },
  {
   "cell_type": "code",
   "execution_count": null,
   "id": "0b27205c",
   "metadata": {},
   "outputs": [],
   "source": [
    "def solution(N, stages):\n",
    "    fail = {}\n",
    "    for i in range(1,N+1):\n",
    "        try:\n",
    "            fail_ = len([a for a in stages if a==i])/len([a for a in stages if a>=i])\n",
    "        except:\n",
    "            fail_ = 0\n",
    "        fail[i]=fail_\n",
    "    answer = sorted(fail, key=fail.get, reverse=True)\n",
    "    return answer"
   ]
  }
 ],
 "metadata": {
  "kernelspec": {
   "display_name": "Python 3",
   "language": "python",
   "name": "python3"
  },
  "language_info": {
   "codemirror_mode": {
    "name": "ipython",
    "version": 3
   },
   "file_extension": ".py",
   "mimetype": "text/x-python",
   "name": "python",
   "nbconvert_exporter": "python",
   "pygments_lexer": "ipython3",
   "version": "3.8.8"
  }
 },
 "nbformat": 4,
 "nbformat_minor": 5
}
