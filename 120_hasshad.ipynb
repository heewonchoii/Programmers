{
 "cells": [
  {
   "cell_type": "markdown",
   "id": "62b55833",
   "metadata": {},
   "source": [
    "# 하샤드 수"
   ]
  },
  {
   "cell_type": "markdown",
   "id": "d8de9656",
   "metadata": {},
   "source": [
    "https://programmers.co.kr/learn/courses/30/lessons/12947\n",
    "\n",
    "**문제 설명**  \n",
    "양의 정수 x가 하샤드 수이려면 x의 자릿수의 합으로 x가 나누어져야 합니다.  \n",
    "예를 들어 18의 자릿수 합은 1+8=9이고, 18은 9로 나누어 떨어지므로 18은 하샤드 수입니다.  \n",
    "자연수 x를 입력받아 x가 하샤드 수인지 아닌지 검사하는 함수, solution을 완성해주세요.\n",
    "\n",
    "**제한 조건**  \n",
    "x는 1 이상, 10000 이하인 정수입니다.\n",
    "\n",
    "**입출력 예**  \n",
    "arr\treturn  \n",
    "10\ttrue  \n",
    "12\ttrue  \n",
    "11\tfalse  \n",
    "13\tfalse\n",
    "\n",
    "**입출력 예 #1** \n",
    "10의 모든 자릿수의 합은 1입니다.  \n",
    "10은 1로 나누어 떨어지므로 10은 하샤드 수입니다.\n",
    "\n",
    "**입출력 예 #2**  \n",
    "12의 모든 자릿수의 합은 3입니다.  \n",
    "12는 3으로 나누어 떨어지므로 12는 하샤드 수입니다.\n",
    "\n",
    "**입출력 예 #3**  \n",
    "11의 모든 자릿수의 합은 2입니다.  \n",
    "11은 2로 나누어 떨어지지 않으므로 11는 하샤드 수가 아닙니다.\n",
    "\n",
    "**입출력 예 #4**  \n",
    "13의 모든 자릿수의 합은 4입니다.  \n",
    "13은 4로 나누어 떨어지지 않으므로 13은 하샤드 수가 아닙니다."
   ]
  },
  {
   "cell_type": "markdown",
   "id": "d4d9b87f",
   "metadata": {},
   "source": [
    "### 나의 풀이"
   ]
  },
  {
   "cell_type": "code",
   "execution_count": null,
   "id": "6cf05e2c",
   "metadata": {},
   "outputs": [],
   "source": [
    "def solution(x):\n",
    "    return not bool(x%sum(list(map(int,str(x)))))"
   ]
  },
  {
   "cell_type": "markdown",
   "id": "02dc896c",
   "metadata": {},
   "source": [
    "### 다른 풀이"
   ]
  },
  {
   "cell_type": "code",
   "execution_count": null,
   "id": "fad93642",
   "metadata": {},
   "outputs": [],
   "source": [
    "def Harshad(n):\n",
    "    return n % sum([int(c) for c in str(n)]) == 0"
   ]
  }
 ],
 "metadata": {
  "kernelspec": {
   "display_name": "Python 3",
   "language": "python",
   "name": "python3"
  },
  "language_info": {
   "codemirror_mode": {
    "name": "ipython",
    "version": 3
   },
   "file_extension": ".py",
   "mimetype": "text/x-python",
   "name": "python",
   "nbconvert_exporter": "python",
   "pygments_lexer": "ipython3",
   "version": "3.8.8"
  }
 },
 "nbformat": 4,
 "nbformat_minor": 5
}
