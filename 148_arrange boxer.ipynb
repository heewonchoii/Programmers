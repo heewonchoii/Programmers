{
 "cells": [
  {
   "cell_type": "markdown",
   "metadata": {},
   "source": [
    "# 복서 정렬하기"
   ]
  },
  {
   "cell_type": "markdown",
   "metadata": {},
   "source": [
    "https://programmers.co.kr/learn/courses/30/lessons/85002\n",
    "\n",
    "**문제 설명**  \n",
    "복서 선수들의 몸무게 weights와, 복서 선수들의 전적을 나타내는 head2head가 매개변수로 주어집니다.  \n",
    "복서 선수들의 번호를 다음과 같은 순서로 정렬한 후 return 하도록 solution 함수를 완성해주세요.\n",
    "\n",
    "전체 승률이 높은 복서의 번호가 앞쪽으로 갑니다. 아직 다른 복서랑 붙어본 적이 없는 복서의 승률은 0%로 취급합니다.  \n",
    "승률이 동일한 복서의 번호들 중에서는 자신보다 몸무게가 무거운 복서를 이긴 횟수가 많은 복서의 번호가 앞쪽으로 갑니다.\n",
    "자신보다 무거운 복서를 이긴 횟수까지 동일한 복서의 번호들 중에서는 자기 몸무게가 무거운 복서의 번호가 앞쪽으로 갑니다.   \n",
    "자기 몸무게까지 동일한 복서의 번호들 중에서는 작은 번호가 앞쪽으로 갑니다.\n",
    "\n",
    "**제한사항**  \n",
    "weights의 길이는 2 이상 1,000 이하입니다.  \n",
    "weights의 모든 값은 45 이상 150 이하의 정수입니다.  \n",
    "weights[i] 는 i+1번 복서의 몸무게(kg)를 의미합니다.  \n",
    "head2head의 길이는 weights의 길이와 같습니다.  \n",
    "head2head의 모든 문자열은 길이가 weights의 길이와 동일하며, 'N', 'W', 'L'로 이루어진 문자열입니다.  \n",
    "head2head[i] 는 i+1번 복서의 전적을 의미하며, head2head[i][j]는 i+1번 복서와 j+1번 복서의 매치 결과를 의미합니다.  \n",
    "'N' (None)은 두 복서가 아직 붙어본 적이 없음을 의미합니다.  \n",
    "'W' (Win)는 i+1번 복서가 j+1번 복서를 이겼음을 의미합니다.  \n",
    "'L' (Lose)는 i+1번 복사가 j+1번 복서에게 졌음을 의미합니다.  \n",
    "임의의 i에 대해서 head2head[i][i] 는 항상 'N'입니다. 자기 자신과 싸울 수는 없기 때문입니다.  \n",
    "임의의 i, j에 대해서 head2head[i][j] = 'W' 이면, head2head[j][i] = 'L'입니다.  \n",
    "임의의 i, j에 대해서 head2head[i][j] = 'L' 이면, head2head[j][i] = 'W'입니다.  \n",
    "임의의 i, j에 대해서 head2head[i][j] = 'N' 이면, head2head[j][i] = 'N'입니다.\n",
    "\n",
    "**입출력 예**  \n",
    "weights\thead2head\tresult  \n",
    "[50,82,75,120]\t[\"NLWL\",\"WNLL\",\"LWNW\",\"WWLN\"]\t[3,4,1,2]  \n",
    "[145,92,86]\t[\"NLW\",\"WNL\",\"LWN\"]\t[2,3,1]  \n",
    "[60,70,60]\t[\"NNN\",\"NNN\",\"NNN\"]\t[2,1,3]\n",
    "\n",
    "**입출력 예 설명**  \n",
    "입출력 예 #1  \n",
    "다음은 선수들의 정보를 나타낸 표입니다.  \n",
    "선수 번호\tvs 1번\tvs 2번\tvs 3번\tvs 4번\t승률\t자기보다 무거운 복서를 이긴 횟수\t몸무게  \n",
    "1번\t-\t패배\t승리\t패배\t33.33%\t1회\t50kg  \n",
    "2번\t승리\t-\t패배\t패배\t33.33%\t0회\t82kg  \n",
    "3번\t패배\t승리\t-\t승리\t66.66%\t2회\t75kg  \n",
    "4번\t승리\t승리\t패배\t-\t66.66%\t0회\t120kg  \n",
    "본문에 서술된 우선순위를 따라 [3,4,1,2] 를 return 합니다.\n",
    "\n",
    "**입출력 예 #2**  \n",
    "다음은 선수들의 정보를 나타낸 표입니다.  \n",
    "선수 번호\tvs 1번\tvs 2번\tvs 3번\t승률\t자기보다 무거운 복서를 이긴 횟수\t몸무게  \n",
    "1번\t-\t패배\t승리\t50%\t0회\t145kg  \n",
    "2번\t승리\t-\t패배\t50%\t1회\t92kg  \n",
    "3번\t패배\t승리\t-\t50%\t1회\t86kg  \n",
    "본문에 서술된 우선순위를 따라 [2,3,1] 을 return 합니다.\n",
    "\n",
    "**입출력 예 #3**  \n",
    "다음은 선수들의 정보를 나타낸 표입니다.  \n",
    "선수 번호\tvs 1번\tvs 2번\tvs 3번\t승률\t자기보다 무거운 복서를 이긴 횟수\t몸무게  \n",
    "1번\t-\t-\t-\t0% (무전적)\t0회\t60kg  \n",
    "2번\t-\t-\t-\t0% (무전적)\t0회\t70kg  \n",
    "3번\t-\t-\t-\t0% (무전적)\t0회\t60kg  \n",
    "본문에 서술된 우선순위를 따라 [2,1,3] 을 return 합니다."
   ]
  },
  {
   "cell_type": "markdown",
   "metadata": {},
   "source": [
    "### 나의 풀이"
   ]
  },
  {
   "cell_type": "code",
   "execution_count": null,
   "metadata": {},
   "outputs": [],
   "source": [
    "def solution(weights, head2head):\n",
    "    op1=[]\n",
    "    op2=[]\n",
    "    for w,h2h in zip(weights,head2head):\n",
    "        if h2h.count('N')==len(h2h):\n",
    "            op1.append(0)\n",
    "        else:\n",
    "            op1.append(h2h.count('W')/(len(h2h)-h2h.count('N')))\n",
    "        \n",
    "        cnt=0\n",
    "        for j,value in enumerate(weights):\n",
    "            if value>w and h2h[j]=='W':\n",
    "                cnt+=1\n",
    "        op2.append(cnt)\n",
    "\n",
    "    return [x[0] for x in sorted(zip(range(1,len(weights)+1),op1,op2,weights),key=lambda x:(x[1],x[2],x[3]),reverse=True)]"
   ]
  },
  {
   "cell_type": "code",
   "execution_count": null,
   "metadata": {},
   "outputs": [],
   "source": [
    "return [abs(x[-1]) for x in sorted(zip(op1,op2,weights,range(-1,-len(weights)-1,-1),),reverse=True)]"
   ]
  },
  {
   "cell_type": "code",
   "execution_count": null,
   "metadata": {},
   "outputs": [],
   "source": [
    "return list(zip(*sorted(zip(op1,op2,weights,range(1,len(weights)+1)),key=lambda x:(-x[0],-x[1],-x[2]))))[-1]"
   ]
  },
  {
   "cell_type": "markdown",
   "metadata": {},
   "source": [
    "### 다른 풀이"
   ]
  },
  {
   "cell_type": "code",
   "execution_count": null,
   "metadata": {},
   "outputs": [],
   "source": [
    "def solution(weights, head2head):\n",
    "    person = []\n",
    "    for i, head in enumerate(head2head):\n",
    "        person.append(\n",
    "            (\n",
    "                head.count(\"W\") / (len(head) - head.count(\"N\")) if head.count(\"N\") != len(head) else 0,\n",
    "                sum(1 for j, h in enumerate(head) if h == \"W\" and weights[i] < weights[j]),\n",
    "                weights[i],\n",
    "                i + 1\n",
    "            )\n",
    "        )\n",
    "    return list(list(zip(*sorted(person, key=lambda x: (-x[0], -x[1], -x[2], x[3]))))[3])"
   ]
  }
 ],
 "metadata": {
  "kernelspec": {
   "display_name": "Python 3",
   "language": "python",
   "name": "python3"
  },
  "language_info": {
   "codemirror_mode": {
    "name": "ipython",
    "version": 3
   },
   "file_extension": ".py",
   "mimetype": "text/x-python",
   "name": "python",
   "nbconvert_exporter": "python",
   "pygments_lexer": "ipython3",
   "version": "3.8.5"
  }
 },
 "nbformat": 4,
 "nbformat_minor": 4
}
