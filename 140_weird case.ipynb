{
 "cells": [
  {
   "cell_type": "markdown",
   "id": "f06c359e",
   "metadata": {},
   "source": [
    "# 이상한 문자 만들기"
   ]
  },
  {
   "cell_type": "markdown",
   "id": "66539f78",
   "metadata": {},
   "source": [
    "https://programmers.co.kr/learn/courses/30/lessons/12930\n",
    "\n",
    "**문제 설명**  \n",
    "문자열 s는 한 개 이상의 단어로 구성되어 있습니다.  \n",
    "각 단어는 하나 이상의 공백문자로 구분되어 있습니다.  \n",
    "각 단어의 짝수번째 알파벳은 대문자로, 홀수번째 알파벳은 소문자로 바꾼 문자열을 리턴하는 함수, solution을 완성하세요.\n",
    "\n",
    "**제한 사항**  \n",
    "문자열 전체의 짝/홀수 인덱스가 아니라, 단어(공백을 기준)별로 짝/홀수 인덱스를 판단해야합니다.  \n",
    "첫 번째 글자는 0번째 인덱스로 보아 짝수번째 알파벳으로 처리해야 합니다.\n",
    "\n",
    "**입출력 예**  \n",
    "s\treturn  \n",
    "\"try hello world\"\t\"TrY HeLlO WoRlD\"\n",
    "\n",
    "**입출력 예 설명**  \n",
    "\"try hello world\"는 세 단어 \"try\", \"hello\", \"world\"로 구성되어 있습니다.  \n",
    "각 단어의 짝수번째 문자를 대문자로, 홀수번째 문자를 소문자로 바꾸면 \"TrY\", \"HeLlO\", \"WoRlD\"입니다. 따라서 \"TrY HeLlO WoRlD\" 를 리턴합니다."
   ]
  },
  {
   "cell_type": "markdown",
   "id": "2ed0a2ed",
   "metadata": {},
   "source": [
    "### 나의 풀이"
   ]
  },
  {
   "cell_type": "code",
   "execution_count": null,
   "id": "b6aad4d9",
   "metadata": {},
   "outputs": [],
   "source": [
    "def solution(s):\n",
    "    answer=''\n",
    "    cnt=0\n",
    "    \n",
    "    for i in range(len(s)):\n",
    "        if s[i]==' ':\n",
    "            answer+=' '\n",
    "            cnt=0\n",
    "        \n",
    "        elif cnt%2==0:\n",
    "            answer+=s[i].upper()\n",
    "            cnt+=1\n",
    "            \n",
    "        else:\n",
    "            answer+=s[i].lower()\n",
    "            cnt+=1\n",
    "            \n",
    "    return answer"
   ]
  },
  {
   "cell_type": "markdown",
   "id": "f28a18ad",
   "metadata": {},
   "source": [
    "### 다른 풀이"
   ]
  },
  {
   "cell_type": "code",
   "execution_count": null,
   "id": "fb2ff6f5",
   "metadata": {},
   "outputs": [],
   "source": [
    "def toWeirdCase(s):\n",
    "    return \" \".join(map(lambda x: \"\".join([a.lower() if i % 2 else a.upper() for i, a in enumerate(x)]), s.split(\" \")))"
   ]
  },
  {
   "cell_type": "code",
   "execution_count": null,
   "id": "fb43e445",
   "metadata": {},
   "outputs": [],
   "source": [
    "def toWeirdCase(s):\n",
    "    return \" \".join([\"\".join([x.lower() if i%2 else x.upper() for i,x in enumerate(w)]) for w in s.split()])"
   ]
  },
  {
   "cell_type": "code",
   "execution_count": null,
   "id": "dc29710d",
   "metadata": {},
   "outputs": [],
   "source": [
    "def toWeirdCase(s):\n",
    "    res = []\n",
    "    for x in s.split(' '):\n",
    "        word = ''\n",
    "        for i in range(len(x)):\n",
    "            c = x[i].upper() if i % 2 == 0 else x[i].lower()\n",
    "            word = word + c\n",
    "        res.append(word)\n",
    "    return ' '.join(res)"
   ]
  }
 ],
 "metadata": {
  "kernelspec": {
   "display_name": "Python 3",
   "language": "python",
   "name": "python3"
  },
  "language_info": {
   "codemirror_mode": {
    "name": "ipython",
    "version": 3
   },
   "file_extension": ".py",
   "mimetype": "text/x-python",
   "name": "python",
   "nbconvert_exporter": "python",
   "pygments_lexer": "ipython3",
   "version": "3.8.8"
  }
 },
 "nbformat": 4,
 "nbformat_minor": 5
}
