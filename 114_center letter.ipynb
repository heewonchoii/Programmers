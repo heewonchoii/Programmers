{
 "cells": [
  {
   "cell_type": "markdown",
   "id": "f3f365ae",
   "metadata": {},
   "source": [
    "# 가운데 글자 가져오기"
   ]
  },
  {
   "cell_type": "markdown",
   "id": "3887bf7b",
   "metadata": {},
   "source": [
    "https://programmers.co.kr/learn/courses/30/lessons/12903\n",
    "\n",
    "**문제 설명**  \n",
    "단어 s의 가운데 글자를 반환하는 함수, solution을 만들어 보세요.  \n",
    "단어의 길이가 짝수라면 가운데 두글자를 반환하면 됩니다.\n",
    "\n",
    "**제한사항** \n",
    "s는 길이가 1 이상, 100이하인 스트링입니다.\n",
    "\n",
    "**입출력 예**  \n",
    "s\treturn  \n",
    "\"abcde\"\t\"c\"  \n",
    "\"qwer\"\t\"we\"  "
   ]
  },
  {
   "cell_type": "markdown",
   "id": "6cf77b30",
   "metadata": {},
   "source": [
    "### 나의 풀이"
   ]
  },
  {
   "cell_type": "code",
   "execution_count": null,
   "id": "37298a0a",
   "metadata": {},
   "outputs": [],
   "source": [
    "def solution(s):\n",
    "    if len(s)%2==1:\n",
    "        return s[len(s)//2]\n",
    "    else:\n",
    "        return s[len(s)//2-1:len(s)//2+1]"
   ]
  },
  {
   "cell_type": "markdown",
   "id": "e41a366a",
   "metadata": {},
   "source": [
    "### 다른 풀이"
   ]
  },
  {
   "cell_type": "code",
   "execution_count": 4,
   "id": "a2331c9b",
   "metadata": {},
   "outputs": [],
   "source": [
    "def string_middle(str):\n",
    "    return str[(len(str)-1)//2:len(str)//2+1]"
   ]
  },
  {
   "cell_type": "code",
   "execution_count": null,
   "id": "8db58b8b",
   "metadata": {},
   "outputs": [],
   "source": [
    "def string_middle(str):\n",
    "    a = len(str)\n",
    "    if a % 2 == 0 :\n",
    "        a = (a-2) / 2\n",
    "    else :\n",
    "        a = (a-1) / 2\n",
    "    return str[int(a) : -int(a)]"
   ]
  }
 ],
 "metadata": {
  "kernelspec": {
   "display_name": "Python 3",
   "language": "python",
   "name": "python3"
  },
  "language_info": {
   "codemirror_mode": {
    "name": "ipython",
    "version": 3
   },
   "file_extension": ".py",
   "mimetype": "text/x-python",
   "name": "python",
   "nbconvert_exporter": "python",
   "pygments_lexer": "ipython3",
   "version": "3.8.8"
  }
 },
 "nbformat": 4,
 "nbformat_minor": 5
}
